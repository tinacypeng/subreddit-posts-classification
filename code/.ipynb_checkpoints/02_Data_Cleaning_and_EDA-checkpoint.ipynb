{
 "cells": [
  {
   "cell_type": "markdown",
   "metadata": {},
   "source": [
    "<img src=\"../images/tinap.png\" style=\"float: left; margin: 15px; height: 50px\">\n",
    "\n",
    "# Tina's Project 3 - Web APIs & NLP Application - Reddit\n",
    "\n",
    "## Part 2. Data Cleaning and EDA"
   ]
  },
  {
   "cell_type": "code",
   "execution_count": 1,
   "metadata": {},
   "outputs": [],
   "source": [
    "import numpy as np\n",
    "import pandas as pd\n",
    "import matplotlib.pyplot as plt\n",
    "import seaborn as sns\n",
    "\n",
    "import nltk\n",
    "from nltk.sentiment.vader import SentimentIntensityAnalyzer\n",
    "import re"
   ]
  },
  {
   "cell_type": "markdown",
   "metadata": {},
   "source": [
    "### Load Data\n",
    "From part 1 - Data Collection, I have collected a total of 3,997 Reddit posts with each of their titles and contents from 2 subreddits. And there are 1,997 posts from subreddit - `r/nba` and 2,000 posts from subreddit - `r/nfl`. And the duration of posts is between Oct. 16 to 23 in 2022."
   ]
  },
  {
   "cell_type": "code",
   "execution_count": 2,
   "metadata": {},
   "outputs": [
    {
     "data": {
      "text/html": [
       "<div>\n",
       "<style scoped>\n",
       "    .dataframe tbody tr th:only-of-type {\n",
       "        vertical-align: middle;\n",
       "    }\n",
       "\n",
       "    .dataframe tbody tr th {\n",
       "        vertical-align: top;\n",
       "    }\n",
       "\n",
       "    .dataframe thead th {\n",
       "        text-align: right;\n",
       "    }\n",
       "</style>\n",
       "<table border=\"1\" class=\"dataframe\">\n",
       "  <thead>\n",
       "    <tr style=\"text-align: right;\">\n",
       "      <th></th>\n",
       "      <th>subreddit</th>\n",
       "      <th>selftext</th>\n",
       "      <th>title</th>\n",
       "    </tr>\n",
       "  </thead>\n",
       "  <tbody>\n",
       "    <tr>\n",
       "      <th>0</th>\n",
       "      <td>nba</td>\n",
       "      <td>[Source tweet from Justin Kubatko of Basketbal...</td>\n",
       "      <td>Donovan Mitchell is the first Cavs player to d...</td>\n",
       "    </tr>\n",
       "    <tr>\n",
       "      <th>1</th>\n",
       "      <td>nba</td>\n",
       "      <td>[removed]</td>\n",
       "      <td>League pass displaying wrong dates?</td>\n",
       "    </tr>\n",
       "    <tr>\n",
       "      <th>2</th>\n",
       "      <td>nba</td>\n",
       "      <td>NaN</td>\n",
       "      <td>Kapalı Yalatmadan Bosalmayan Escort Seyma - Es...</td>\n",
       "    </tr>\n",
       "    <tr>\n",
       "      <th>3</th>\n",
       "      <td>nba</td>\n",
       "      <td>Ok, title is pretty self explanatory. Let’s go...</td>\n",
       "      <td>Ranking today’s games based on how good I thin...</td>\n",
       "    </tr>\n",
       "    <tr>\n",
       "      <th>4</th>\n",
       "      <td>nba</td>\n",
       "      <td>NaN</td>\n",
       "      <td>[Johnson] It’s time for Billy Donovan to retur...</td>\n",
       "    </tr>\n",
       "  </tbody>\n",
       "</table>\n",
       "</div>"
      ],
      "text/plain": [
       "  subreddit                                           selftext  \\\n",
       "0       nba  [Source tweet from Justin Kubatko of Basketbal...   \n",
       "1       nba                                          [removed]   \n",
       "2       nba                                                NaN   \n",
       "3       nba  Ok, title is pretty self explanatory. Let’s go...   \n",
       "4       nba                                                NaN   \n",
       "\n",
       "                                               title  \n",
       "0  Donovan Mitchell is the first Cavs player to d...  \n",
       "1                League pass displaying wrong dates?  \n",
       "2  Kapalı Yalatmadan Bosalmayan Escort Seyma - Es...  \n",
       "3  Ranking today’s games based on how good I thin...  \n",
       "4  [Johnson] It’s time for Billy Donovan to retur...  "
      ]
     },
     "execution_count": 2,
     "metadata": {},
     "output_type": "execute_result"
    }
   ],
   "source": [
    "df_nba = pd.read_csv('../data/df_nba.csv')\n",
    "df_nba.head()"
   ]
  },
  {
   "cell_type": "code",
   "execution_count": 3,
   "metadata": {},
   "outputs": [
    {
     "data": {
      "text/html": [
       "<div>\n",
       "<style scoped>\n",
       "    .dataframe tbody tr th:only-of-type {\n",
       "        vertical-align: middle;\n",
       "    }\n",
       "\n",
       "    .dataframe tbody tr th {\n",
       "        vertical-align: top;\n",
       "    }\n",
       "\n",
       "    .dataframe thead th {\n",
       "        text-align: right;\n",
       "    }\n",
       "</style>\n",
       "<table border=\"1\" class=\"dataframe\">\n",
       "  <thead>\n",
       "    <tr style=\"text-align: right;\">\n",
       "      <th></th>\n",
       "      <th>subreddit</th>\n",
       "      <th>selftext</th>\n",
       "      <th>title</th>\n",
       "    </tr>\n",
       "  </thead>\n",
       "  <tbody>\n",
       "    <tr>\n",
       "      <th>0</th>\n",
       "      <td>nfl</td>\n",
       "      <td>[removed]</td>\n",
       "      <td>NFL+ question</td>\n",
       "    </tr>\n",
       "    <tr>\n",
       "      <th>1</th>\n",
       "      <td>nfl</td>\n",
       "      <td>NaN</td>\n",
       "      <td>[Meinke] The Cowboys game program, which calls...</td>\n",
       "    </tr>\n",
       "    <tr>\n",
       "      <th>2</th>\n",
       "      <td>nfl</td>\n",
       "      <td>[removed]</td>\n",
       "      <td>Sorry to be an idiot but what is ACTUAL game s...</td>\n",
       "    </tr>\n",
       "    <tr>\n",
       "      <th>3</th>\n",
       "      <td>nfl</td>\n",
       "      <td>This is via Matt Provencher on Fox Sports.</td>\n",
       "      <td>B.U.S. Banged Up Score for each team</td>\n",
       "    </tr>\n",
       "    <tr>\n",
       "      <th>4</th>\n",
       "      <td>nfl</td>\n",
       "      <td>NaN</td>\n",
       "      <td>B.U.S. Score for each team</td>\n",
       "    </tr>\n",
       "  </tbody>\n",
       "</table>\n",
       "</div>"
      ],
      "text/plain": [
       "  subreddit                                    selftext  \\\n",
       "0       nfl                                   [removed]   \n",
       "1       nfl                                         NaN   \n",
       "2       nfl                                   [removed]   \n",
       "3       nfl  This is via Matt Provencher on Fox Sports.   \n",
       "4       nfl                                         NaN   \n",
       "\n",
       "                                               title  \n",
       "0                                      NFL+ question  \n",
       "1  [Meinke] The Cowboys game program, which calls...  \n",
       "2  Sorry to be an idiot but what is ACTUAL game s...  \n",
       "3               B.U.S. Banged Up Score for each team  \n",
       "4                         B.U.S. Score for each team  "
      ]
     },
     "execution_count": 3,
     "metadata": {},
     "output_type": "execute_result"
    }
   ],
   "source": [
    "df_nfl = pd.read_csv('../data/df_nfl.csv')\n",
    "df_nfl.head()"
   ]
  },
  {
   "cell_type": "code",
   "execution_count": 4,
   "metadata": {},
   "outputs": [
    {
     "data": {
      "text/plain": [
       "(3997, 3)"
      ]
     },
     "execution_count": 4,
     "metadata": {},
     "output_type": "execute_result"
    }
   ],
   "source": [
    "dfs = pd.concat([df_nba, df_nfl])\n",
    "dfs.shape"
   ]
  },
  {
   "cell_type": "markdown",
   "metadata": {},
   "source": [
    ">There are totally 3,997 documents in our corpus."
   ]
  },
  {
   "cell_type": "markdown",
   "metadata": {},
   "source": [
    "### Missing Values\n",
    "\n",
    "Those missing values in column `selftext` are posts without contents. They might have special features to my data, so I will keep them and fill them out with `No content`."
   ]
  },
  {
   "cell_type": "code",
   "execution_count": 5,
   "metadata": {},
   "outputs": [
    {
     "data": {
      "text/plain": [
       "subreddit       0\n",
       "selftext     2151\n",
       "title           0\n",
       "dtype: int64"
      ]
     },
     "execution_count": 5,
     "metadata": {},
     "output_type": "execute_result"
    }
   ],
   "source": [
    "dfs.isnull().sum()"
   ]
  },
  {
   "cell_type": "code",
   "execution_count": 6,
   "metadata": {},
   "outputs": [],
   "source": [
    "dfs.fillna('No content', inplace = True)"
   ]
  },
  {
   "cell_type": "code",
   "execution_count": 7,
   "metadata": {},
   "outputs": [
    {
     "data": {
      "text/plain": [
       "subreddit    0\n",
       "selftext     0\n",
       "title        0\n",
       "dtype: int64"
      ]
     },
     "execution_count": 7,
     "metadata": {},
     "output_type": "execute_result"
    }
   ],
   "source": [
    "dfs.isnull().sum()"
   ]
  },
  {
   "cell_type": "code",
   "execution_count": 8,
   "metadata": {},
   "outputs": [
    {
     "data": {
      "text/plain": [
       "509"
      ]
     },
     "execution_count": 8,
     "metadata": {},
     "output_type": "execute_result"
    }
   ],
   "source": [
    "len(dfs[dfs['selftext'] == '[removed]'])"
   ]
  },
  {
   "cell_type": "code",
   "execution_count": 9,
   "metadata": {},
   "outputs": [
    {
     "data": {
      "text/plain": [
       "42"
      ]
     },
     "execution_count": 9,
     "metadata": {},
     "output_type": "execute_result"
    }
   ],
   "source": [
    "len(dfs[dfs['selftext'] == '[deleted]'])"
   ]
  },
  {
   "cell_type": "markdown",
   "metadata": {},
   "source": [
    "### Remove non-English words, but keep numbers\n",
    "Some characters in titles are not in English alphabets, and it is a higher chance that they are spam posts. So, I will remove them to avoid adding non-appropriate data to my model."
   ]
  },
  {
   "cell_type": "code",
   "execution_count": 10,
   "metadata": {},
   "outputs": [],
   "source": [
    "def rmv_noneng(text):\n",
    "    text = re.sub(\"[^a-zA-Z0-9 ]+\", \"\",text)\n",
    "    if text == '':\n",
    "        return None\n",
    "    return text"
   ]
  },
  {
   "cell_type": "code",
   "execution_count": 11,
   "metadata": {},
   "outputs": [
    {
     "data": {
      "text/html": [
       "<div>\n",
       "<style scoped>\n",
       "    .dataframe tbody tr th:only-of-type {\n",
       "        vertical-align: middle;\n",
       "    }\n",
       "\n",
       "    .dataframe tbody tr th {\n",
       "        vertical-align: top;\n",
       "    }\n",
       "\n",
       "    .dataframe thead th {\n",
       "        text-align: right;\n",
       "    }\n",
       "</style>\n",
       "<table border=\"1\" class=\"dataframe\">\n",
       "  <thead>\n",
       "    <tr style=\"text-align: right;\">\n",
       "      <th></th>\n",
       "      <th>subreddit</th>\n",
       "      <th>selftext</th>\n",
       "      <th>title</th>\n",
       "    </tr>\n",
       "  </thead>\n",
       "  <tbody>\n",
       "    <tr>\n",
       "      <th>0</th>\n",
       "      <td>nba</td>\n",
       "      <td>[Source tweet from Justin Kubatko of Basketbal...</td>\n",
       "      <td>Donovan Mitchell is the first Cavs player to d...</td>\n",
       "    </tr>\n",
       "    <tr>\n",
       "      <th>1</th>\n",
       "      <td>nba</td>\n",
       "      <td>[removed]</td>\n",
       "      <td>League pass displaying wrong dates</td>\n",
       "    </tr>\n",
       "    <tr>\n",
       "      <th>2</th>\n",
       "      <td>nba</td>\n",
       "      <td>No content</td>\n",
       "      <td>Kapal Yalatmadan Bosalmayan Escort Seyma  Esco...</td>\n",
       "    </tr>\n",
       "    <tr>\n",
       "      <th>3</th>\n",
       "      <td>nba</td>\n",
       "      <td>Ok, title is pretty self explanatory. Let’s go...</td>\n",
       "      <td>Ranking todays games based on how good I think...</td>\n",
       "    </tr>\n",
       "    <tr>\n",
       "      <th>4</th>\n",
       "      <td>nba</td>\n",
       "      <td>No content</td>\n",
       "      <td>Johnson Its time for Billy Donovan to return t...</td>\n",
       "    </tr>\n",
       "  </tbody>\n",
       "</table>\n",
       "</div>"
      ],
      "text/plain": [
       "  subreddit                                           selftext  \\\n",
       "0       nba  [Source tweet from Justin Kubatko of Basketbal...   \n",
       "1       nba                                          [removed]   \n",
       "2       nba                                         No content   \n",
       "3       nba  Ok, title is pretty self explanatory. Let’s go...   \n",
       "4       nba                                         No content   \n",
       "\n",
       "                                               title  \n",
       "0  Donovan Mitchell is the first Cavs player to d...  \n",
       "1                 League pass displaying wrong dates  \n",
       "2  Kapal Yalatmadan Bosalmayan Escort Seyma  Esco...  \n",
       "3  Ranking todays games based on how good I think...  \n",
       "4  Johnson Its time for Billy Donovan to return t...  "
      ]
     },
     "execution_count": 11,
     "metadata": {},
     "output_type": "execute_result"
    }
   ],
   "source": [
    "dfs['title'] = dfs['title'].apply(lambda title: rmv_noneng(title))\n",
    "dfs.head()"
   ]
  },
  {
   "cell_type": "code",
   "execution_count": 12,
   "metadata": {},
   "outputs": [],
   "source": [
    "dfs = dfs[dfs['title'].notnull()]"
   ]
  },
  {
   "cell_type": "markdown",
   "metadata": {},
   "source": [
    "### Convert `subreddit` Column \n",
    "Convert `nba` and `nfl` into binary labels:\n",
    "* 1 for `nba`\n",
    "* 0 for `nfl`"
   ]
  },
  {
   "cell_type": "code",
   "execution_count": 13,
   "metadata": {},
   "outputs": [
    {
     "data": {
      "text/plain": [
       "0    0.50025\n",
       "1    0.49975\n",
       "Name: subreddit, dtype: float64"
      ]
     },
     "execution_count": 13,
     "metadata": {},
     "output_type": "execute_result"
    }
   ],
   "source": [
    "dfs['subreddit'] = np.where(dfs['subreddit'] == 'nba', 1, 0)\n",
    "dfs['subreddit'].value_counts(normalize = True)"
   ]
  },
  {
   "cell_type": "markdown",
   "metadata": {},
   "source": [
    ">Our baseline model accuracy rate is around 50%."
   ]
  },
  {
   "cell_type": "markdown",
   "metadata": {},
   "source": [
    "### Title word count\n",
    "Sometimes, title lengths (word counts in title) can be a lot different between different topics or subreddits. For example, title lengths in the `r/AskDocs` subreddit might be longer than title lengths in the `r/meme` subreddit. Typically, posts in `r/meme` are more about pictures than words. \n",
    "\n",
    "Therefore, let's take a look at the title lengths difference between `r/nba` and `r/nfl`."
   ]
  },
  {
   "cell_type": "code",
   "execution_count": 14,
   "metadata": {},
   "outputs": [],
   "source": [
    "dfs['title_word_count'] = [len(words.split(' ')) for words in dfs['title']]"
   ]
  },
  {
   "cell_type": "markdown",
   "metadata": {},
   "source": [
    "#### Word Count"
   ]
  },
  {
   "cell_type": "code",
   "execution_count": 15,
   "metadata": {},
   "outputs": [
    {
     "data": {
      "image/png": "[encoded data removed]",
      "text/plain": [
       "<Figure size 720x432 with 1 Axes>"
      ]
     },
     "metadata": {
      "needs_background": "light"
     },
     "output_type": "display_data"
    }
   ],
   "source": [
    "# All\n",
    "plt.figure(figsize = (10, 6))\n",
    "sns.histplot(dfs['title_word_count'], color = '#FFF7E9', edgecolor = 'dimgray')\n",
    "plt.xlabel('Number of Words in One Title', fontsize = 12)\n",
    "plt.ylabel('Number of Posts', fontsize = 12)\n",
    "plt.title('Distribution of Title Word Counts', fontsize = 15, loc = 'left')\n",
    "plt.tight_layout()\n",
    "plt.savefig(\"../images/title_wordcount_all.png\", dpi=100);"
   ]
  },
  {
   "cell_type": "code",
   "execution_count": 16,
   "metadata": {},
   "outputs": [
    {
     "data": {
      "image/png": "[encoded data removed]",
      "text/plain": [
       "<Figure size 720x432 with 1 Axes>"
      ]
     },
     "metadata": {
      "needs_background": "light"
     },
     "output_type": "display_data"
    }
   ],
   "source": [
    "# NBA\n",
    "plt.figure(figsize = (10, 6))\n",
    "sns.histplot(dfs[dfs['subreddit'] == 1]['title_word_count'], color = '#FF731D', edgecolor = 'dimgray', bins = 30)\n",
    "plt.xlabel('Number of Words in One Title', fontsize = 12)\n",
    "plt.ylabel('Number of Posts', fontsize = 12)\n",
    "plt.title('Distribution of NBA Title Word Counts', fontsize = 15, loc = 'left')\n",
    "plt.yticks([0, 50, 100, 150, 200, 250])\n",
    "plt.tight_layout()\n",
    "plt.savefig(\"../images/title_wordcount_nba.png\", dpi=100);"
   ]
  },
  {
   "cell_type": "code",
   "execution_count": 17,
   "metadata": {},
   "outputs": [
    {
     "data": {
      "text/html": [
       "<div>\n",
       "<style scoped>\n",
       "    .dataframe tbody tr th:only-of-type {\n",
       "        vertical-align: middle;\n",
       "    }\n",
       "\n",
       "    .dataframe tbody tr th {\n",
       "        vertical-align: top;\n",
       "    }\n",
       "\n",
       "    .dataframe thead th {\n",
       "        text-align: right;\n",
       "    }\n",
       "</style>\n",
       "<table border=\"1\" class=\"dataframe\">\n",
       "  <thead>\n",
       "    <tr style=\"text-align: right;\">\n",
       "      <th></th>\n",
       "      <th>title_word_count</th>\n",
       "    </tr>\n",
       "  </thead>\n",
       "  <tbody>\n",
       "    <tr>\n",
       "      <th>count</th>\n",
       "      <td>1997.000000</td>\n",
       "    </tr>\n",
       "    <tr>\n",
       "      <th>mean</th>\n",
       "      <td>14.874311</td>\n",
       "    </tr>\n",
       "    <tr>\n",
       "      <th>std</th>\n",
       "      <td>10.148039</td>\n",
       "    </tr>\n",
       "    <tr>\n",
       "      <th>min</th>\n",
       "      <td>1.000000</td>\n",
       "    </tr>\n",
       "    <tr>\n",
       "      <th>25%</th>\n",
       "      <td>8.000000</td>\n",
       "    </tr>\n",
       "    <tr>\n",
       "      <th>50%</th>\n",
       "      <td>13.000000</td>\n",
       "    </tr>\n",
       "    <tr>\n",
       "      <th>75%</th>\n",
       "      <td>18.000000</td>\n",
       "    </tr>\n",
       "    <tr>\n",
       "      <th>max</th>\n",
       "      <td>60.000000</td>\n",
       "    </tr>\n",
       "  </tbody>\n",
       "</table>\n",
       "</div>"
      ],
      "text/plain": [
       "       title_word_count\n",
       "count       1997.000000\n",
       "mean          14.874311\n",
       "std           10.148039\n",
       "min            1.000000\n",
       "25%            8.000000\n",
       "50%           13.000000\n",
       "75%           18.000000\n",
       "max           60.000000"
      ]
     },
     "execution_count": 17,
     "metadata": {},
     "output_type": "execute_result"
    }
   ],
   "source": [
    "dfs[dfs['subreddit'] == 1][['title_word_count']].describe()"
   ]
  },
  {
   "cell_type": "code",
   "execution_count": 18,
   "metadata": {
    "scrolled": false
   },
   "outputs": [
    {
     "data": {
      "image/png": "[encoded data removed]",
      "text/plain": [
       "<Figure size 720x432 with 1 Axes>"
      ]
     },
     "metadata": {
      "needs_background": "light"
     },
     "output_type": "display_data"
    }
   ],
   "source": [
    "# NFL\n",
    "plt.figure(figsize = (10, 6))\n",
    "sns.histplot(dfs[dfs['subreddit'] == 0]['title_word_count'], color = '#5F9DF7', edgecolor = 'dimgray', bins = 30)\n",
    "plt.xlabel('Number of Words in One Title', fontsize = 12)\n",
    "plt.ylabel('Number of Posts', fontsize = 12)\n",
    "plt.title('Distribution of NFL Title Word Counts', fontsize = 15, loc = 'left')\n",
    "plt.yticks([0, 50, 100, 150, 200, 250])\n",
    "plt.tight_layout()\n",
    "plt.savefig(\"../images/title_wordcount_nfl.png\", dpi=100);"
   ]
  },
  {
   "cell_type": "code",
   "execution_count": 19,
   "metadata": {},
   "outputs": [
    {
     "data": {
      "text/html": [
       "<div>\n",
       "<style scoped>\n",
       "    .dataframe tbody tr th:only-of-type {\n",
       "        vertical-align: middle;\n",
       "    }\n",
       "\n",
       "    .dataframe tbody tr th {\n",
       "        vertical-align: top;\n",
       "    }\n",
       "\n",
       "    .dataframe thead th {\n",
       "        text-align: right;\n",
       "    }\n",
       "</style>\n",
       "<table border=\"1\" class=\"dataframe\">\n",
       "  <thead>\n",
       "    <tr style=\"text-align: right;\">\n",
       "      <th></th>\n",
       "      <th>title_word_count</th>\n",
       "    </tr>\n",
       "  </thead>\n",
       "  <tbody>\n",
       "    <tr>\n",
       "      <th>count</th>\n",
       "      <td>1999.000000</td>\n",
       "    </tr>\n",
       "    <tr>\n",
       "      <th>mean</th>\n",
       "      <td>17.904952</td>\n",
       "    </tr>\n",
       "    <tr>\n",
       "      <th>std</th>\n",
       "      <td>13.436089</td>\n",
       "    </tr>\n",
       "    <tr>\n",
       "      <th>min</th>\n",
       "      <td>1.000000</td>\n",
       "    </tr>\n",
       "    <tr>\n",
       "      <th>25%</th>\n",
       "      <td>8.000000</td>\n",
       "    </tr>\n",
       "    <tr>\n",
       "      <th>50%</th>\n",
       "      <td>13.000000</td>\n",
       "    </tr>\n",
       "    <tr>\n",
       "      <th>75%</th>\n",
       "      <td>24.000000</td>\n",
       "    </tr>\n",
       "    <tr>\n",
       "      <th>max</th>\n",
       "      <td>59.000000</td>\n",
       "    </tr>\n",
       "  </tbody>\n",
       "</table>\n",
       "</div>"
      ],
      "text/plain": [
       "       title_word_count\n",
       "count       1999.000000\n",
       "mean          17.904952\n",
       "std           13.436089\n",
       "min            1.000000\n",
       "25%            8.000000\n",
       "50%           13.000000\n",
       "75%           24.000000\n",
       "max           59.000000"
      ]
     },
     "execution_count": 19,
     "metadata": {},
     "output_type": "execute_result"
    }
   ],
   "source": [
    "dfs[dfs['subreddit'] == 0][['title_word_count']].describe()"
   ]
  },
  {
   "cell_type": "markdown",
   "metadata": {},
   "source": [
    ">**Findings:** The number of title words in the subreddit NBA is slightly lesser than numbers in NFL."
   ]
  },
  {
   "cell_type": "markdown",
   "metadata": {},
   "source": [
    "### Sentiment Analysis"
   ]
  },
  {
   "cell_type": "code",
   "execution_count": 20,
   "metadata": {},
   "outputs": [],
   "source": [
    "sa = SentimentIntensityAnalyzer()"
   ]
  },
  {
   "cell_type": "code",
   "execution_count": 23,
   "metadata": {},
   "outputs": [
    {
     "data": {
      "text/html": [
       "<div>\n",
       "<style scoped>\n",
       "    .dataframe tbody tr th:only-of-type {\n",
       "        vertical-align: middle;\n",
       "    }\n",
       "\n",
       "    .dataframe tbody tr th {\n",
       "        vertical-align: top;\n",
       "    }\n",
       "\n",
       "    .dataframe thead th {\n",
       "        text-align: right;\n",
       "    }\n",
       "</style>\n",
       "<table border=\"1\" class=\"dataframe\">\n",
       "  <thead>\n",
       "    <tr style=\"text-align: right;\">\n",
       "      <th></th>\n",
       "      <th>subreddit</th>\n",
       "      <th>selftext</th>\n",
       "      <th>title</th>\n",
       "      <th>title_word_count</th>\n",
       "      <th>polarity</th>\n",
       "      <th>compound</th>\n",
       "    </tr>\n",
       "  </thead>\n",
       "  <tbody>\n",
       "    <tr>\n",
       "      <th>0</th>\n",
       "      <td>1</td>\n",
       "      <td>[Source tweet from Justin Kubatko of Basketbal...</td>\n",
       "      <td>Donovan Mitchell is the first Cavs player to d...</td>\n",
       "      <td>18</td>\n",
       "      <td>{'neg': 0.116, 'neu': 0.884, 'pos': 0.0, 'comp...</td>\n",
       "      <td>-0.27</td>\n",
       "    </tr>\n",
       "    <tr>\n",
       "      <th>1</th>\n",
       "      <td>1</td>\n",
       "      <td>[removed]</td>\n",
       "      <td>League pass displaying wrong dates</td>\n",
       "      <td>5</td>\n",
       "      <td>{'neg': 0.437, 'neu': 0.563, 'pos': 0.0, 'comp...</td>\n",
       "      <td>-0.48</td>\n",
       "    </tr>\n",
       "    <tr>\n",
       "      <th>2</th>\n",
       "      <td>1</td>\n",
       "      <td>No content</td>\n",
       "      <td>Kapal Yalatmadan Bosalmayan Escort Seyma  Esco...</td>\n",
       "      <td>9</td>\n",
       "      <td>{'neg': 0.0, 'neu': 1.0, 'pos': 0.0, 'compound...</td>\n",
       "      <td>0.00</td>\n",
       "    </tr>\n",
       "    <tr>\n",
       "      <th>3</th>\n",
       "      <td>1</td>\n",
       "      <td>Ok, title is pretty self explanatory. Let’s go...</td>\n",
       "      <td>Ranking todays games based on how good I think...</td>\n",
       "      <td>15</td>\n",
       "      <td>{'neg': 0.0, 'neu': 0.818, 'pos': 0.182, 'comp...</td>\n",
       "      <td>0.44</td>\n",
       "    </tr>\n",
       "    <tr>\n",
       "      <th>4</th>\n",
       "      <td>1</td>\n",
       "      <td>No content</td>\n",
       "      <td>Johnson Its time for Billy Donovan to return t...</td>\n",
       "      <td>21</td>\n",
       "      <td>{'neg': 0.0, 'neu': 0.893, 'pos': 0.107, 'comp...</td>\n",
       "      <td>0.34</td>\n",
       "    </tr>\n",
       "  </tbody>\n",
       "</table>\n",
       "</div>"
      ],
      "text/plain": [
       "   subreddit                                           selftext  \\\n",
       "0          1  [Source tweet from Justin Kubatko of Basketbal...   \n",
       "1          1                                          [removed]   \n",
       "2          1                                         No content   \n",
       "3          1  Ok, title is pretty self explanatory. Let’s go...   \n",
       "4          1                                         No content   \n",
       "\n",
       "                                               title  title_word_count  \\\n",
       "0  Donovan Mitchell is the first Cavs player to d...                18   \n",
       "1                 League pass displaying wrong dates                 5   \n",
       "2  Kapal Yalatmadan Bosalmayan Escort Seyma  Esco...                 9   \n",
       "3  Ranking todays games based on how good I think...                15   \n",
       "4  Johnson Its time for Billy Donovan to return t...                21   \n",
       "\n",
       "                                            polarity  compound  \n",
       "0  {'neg': 0.116, 'neu': 0.884, 'pos': 0.0, 'comp...     -0.27  \n",
       "1  {'neg': 0.437, 'neu': 0.563, 'pos': 0.0, 'comp...     -0.48  \n",
       "2  {'neg': 0.0, 'neu': 1.0, 'pos': 0.0, 'compound...      0.00  \n",
       "3  {'neg': 0.0, 'neu': 0.818, 'pos': 0.182, 'comp...      0.44  \n",
       "4  {'neg': 0.0, 'neu': 0.893, 'pos': 0.107, 'comp...      0.34  "
      ]
     },
     "execution_count": 23,
     "metadata": {},
     "output_type": "execute_result"
    }
   ],
   "source": [
    "dfs['polarity'] = dfs['title'].apply(lambda title: sa.polarity_scores(title))\n",
    "dfs['compound'] = dfs['polarity'].apply(lambda scores: round(scores['compound'], 2))\n",
    "dfs.head()"
   ]
  },
  {
   "cell_type": "code",
   "execution_count": 24,
   "metadata": {},
   "outputs": [
    {
     "data": {
      "text/html": [
       "<div>\n",
       "<style scoped>\n",
       "    .dataframe tbody tr th:only-of-type {\n",
       "        vertical-align: middle;\n",
       "    }\n",
       "\n",
       "    .dataframe tbody tr th {\n",
       "        vertical-align: top;\n",
       "    }\n",
       "\n",
       "    .dataframe thead th {\n",
       "        text-align: right;\n",
       "    }\n",
       "</style>\n",
       "<table border=\"1\" class=\"dataframe\">\n",
       "  <thead>\n",
       "    <tr style=\"text-align: right;\">\n",
       "      <th></th>\n",
       "      <th>compound</th>\n",
       "    </tr>\n",
       "  </thead>\n",
       "  <tbody>\n",
       "    <tr>\n",
       "      <th>count</th>\n",
       "      <td>3996.000000</td>\n",
       "    </tr>\n",
       "    <tr>\n",
       "      <th>mean</th>\n",
       "      <td>0.067485</td>\n",
       "    </tr>\n",
       "    <tr>\n",
       "      <th>std</th>\n",
       "      <td>0.365972</td>\n",
       "    </tr>\n",
       "    <tr>\n",
       "      <th>min</th>\n",
       "      <td>-0.940000</td>\n",
       "    </tr>\n",
       "    <tr>\n",
       "      <th>25%</th>\n",
       "      <td>0.000000</td>\n",
       "    </tr>\n",
       "    <tr>\n",
       "      <th>50%</th>\n",
       "      <td>0.000000</td>\n",
       "    </tr>\n",
       "    <tr>\n",
       "      <th>75%</th>\n",
       "      <td>0.340000</td>\n",
       "    </tr>\n",
       "    <tr>\n",
       "      <th>max</th>\n",
       "      <td>0.960000</td>\n",
       "    </tr>\n",
       "  </tbody>\n",
       "</table>\n",
       "</div>"
      ],
      "text/plain": [
       "          compound\n",
       "count  3996.000000\n",
       "mean      0.067485\n",
       "std       0.365972\n",
       "min      -0.940000\n",
       "25%       0.000000\n",
       "50%       0.000000\n",
       "75%       0.340000\n",
       "max       0.960000"
      ]
     },
     "execution_count": 24,
     "metadata": {},
     "output_type": "execute_result"
    }
   ],
   "source": [
    "dfs[['compound']].describe()"
   ]
  },
  {
   "cell_type": "code",
   "execution_count": 25,
   "metadata": {},
   "outputs": [],
   "source": [
    "dfs['pos'] = np.where(dfs['compound'] > 0, 1, 0)\n",
    "dfs['neg'] = np.where(dfs['compound'] < 0, 1, 0)"
   ]
  },
  {
   "cell_type": "code",
   "execution_count": 26,
   "metadata": {},
   "outputs": [
    {
     "name": "stdout",
     "output_type": "stream",
     "text": [
      "Positive: 37%; Negative: 23%; \n",
      "Neutral: 40%\n"
     ]
    }
   ],
   "source": [
    "print(f\"Positive: {int(dfs['pos'].mean()*100)}%; Negative: {int(dfs['neg'].mean()*100)}%; \")\n",
    "print(f\"Neutral: {100 - int(dfs['pos'].mean()*100) - int(dfs['neg'].mean()*100)}%\")"
   ]
  },
  {
   "cell_type": "markdown",
   "metadata": {},
   "source": [
    ">**Findings:** According to the information above, 40% of the titles are neutral, 37% are positive, and 23% are negative sentiment. They are basically even."
   ]
  },
  {
   "cell_type": "markdown",
   "metadata": {},
   "source": [
    "### Output Cleaned Data"
   ]
  },
  {
   "cell_type": "code",
   "execution_count": 29,
   "metadata": {},
   "outputs": [],
   "source": [
    "dfs.drop(columns = ['polarity', 'selftext']).to_csv('../data/df_cleaned.csv', index = False)"
   ]
  }
 ],
 "metadata": {
  "kernelspec": {
   "display_name": "Python 3",
   "language": "python",
   "name": "python3"
  },
  "language_info": {
   "codemirror_mode": {
    "name": "ipython",
    "version": 3
   },
   "file_extension": ".py",
   "mimetype": "text/x-python",
   "name": "python",
   "nbconvert_exporter": "python",
   "pygments_lexer": "ipython3",
   "version": "3.8.5"
  }
 },
 "nbformat": 4,
 "nbformat_minor": 4
}
