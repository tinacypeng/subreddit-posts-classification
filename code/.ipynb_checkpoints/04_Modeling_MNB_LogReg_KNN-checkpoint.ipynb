{
 "cells": [
  {
   "cell_type": "markdown",
   "metadata": {},
   "source": [
    "<img src=\"../images/tinap.png\" style=\"float: left; margin: 15px; height: 50px\">\n",
    "\n",
    "# Tina's Project 3 - Web APIs & NLP Application - Reddit\n",
    "\n",
    "## Part 4. Modeling\n",
    "MNB, LogReg, KNN with Count or TF-IDF Vectorizer"
   ]
  },
  {
   "cell_type": "code",
   "execution_count": 30,
   "metadata": {},
   "outputs": [],
   "source": [
    "import numpy as np\n",
    "import pandas as pd\n",
    "import matplotlib.pyplot as plt\n",
    "\n",
    "from sklearn.model_selection import train_test_split, GridSearchCV\n",
    "from sklearn.pipeline import Pipeline\n",
    "from sklearn.naive_bayes import MultinomialNB\n",
    "from sklearn.linear_model import LogisticRegression\n",
    "from sklearn.neighbors import KNeighborsClassifier\n",
    "from sklearn.metrics import confusion_matrix, plot_confusion_matrix\n",
    "from sklearn.feature_extraction.text import CountVectorizer, TfidfVectorizer\n",
    "from sklearn.ensemble import GradientBoostingClassifier"
   ]
  },
  {
   "cell_type": "markdown",
   "metadata": {},
   "source": [
    "### Load Data"
   ]
  },
  {
   "cell_type": "code",
   "execution_count": 31,
   "metadata": {},
   "outputs": [
    {
     "data": {
      "text/html": [
       "<div>\n",
       "<style scoped>\n",
       "    .dataframe tbody tr th:only-of-type {\n",
       "        vertical-align: middle;\n",
       "    }\n",
       "\n",
       "    .dataframe tbody tr th {\n",
       "        vertical-align: top;\n",
       "    }\n",
       "\n",
       "    .dataframe thead th {\n",
       "        text-align: right;\n",
       "    }\n",
       "</style>\n",
       "<table border=\"1\" class=\"dataframe\">\n",
       "  <thead>\n",
       "    <tr style=\"text-align: right;\">\n",
       "      <th></th>\n",
       "      <th>subreddit</th>\n",
       "      <th>selftext</th>\n",
       "      <th>title</th>\n",
       "      <th>title_length</th>\n",
       "      <th>title_word_count</th>\n",
       "      <th>polarity</th>\n",
       "      <th>compound</th>\n",
       "      <th>pos</th>\n",
       "      <th>neg</th>\n",
       "    </tr>\n",
       "  </thead>\n",
       "  <tbody>\n",
       "    <tr>\n",
       "      <th>0</th>\n",
       "      <td>1</td>\n",
       "      <td>[Source tweet from Justin Kubatko of Basketbal...</td>\n",
       "      <td>Donovan Mitchell is the first Cavs player to d...</td>\n",
       "      <td>87</td>\n",
       "      <td>18</td>\n",
       "      <td>{'neg': 0.116, 'neu': 0.884, 'pos': 0.0, 'comp...</td>\n",
       "      <td>-0.27</td>\n",
       "      <td>0</td>\n",
       "      <td>1</td>\n",
       "    </tr>\n",
       "    <tr>\n",
       "      <th>1</th>\n",
       "      <td>1</td>\n",
       "      <td>[removed]</td>\n",
       "      <td>League pass displaying wrong dates</td>\n",
       "      <td>34</td>\n",
       "      <td>5</td>\n",
       "      <td>{'neg': 0.437, 'neu': 0.563, 'pos': 0.0, 'comp...</td>\n",
       "      <td>-0.48</td>\n",
       "      <td>0</td>\n",
       "      <td>1</td>\n",
       "    </tr>\n",
       "    <tr>\n",
       "      <th>2</th>\n",
       "      <td>1</td>\n",
       "      <td>No content</td>\n",
       "      <td>Kapal Yalatmadan Bosalmayan Escort Seyma  Esco...</td>\n",
       "      <td>68</td>\n",
       "      <td>9</td>\n",
       "      <td>{'neg': 0.0, 'neu': 1.0, 'pos': 0.0, 'compound...</td>\n",
       "      <td>0.00</td>\n",
       "      <td>0</td>\n",
       "      <td>0</td>\n",
       "    </tr>\n",
       "    <tr>\n",
       "      <th>3</th>\n",
       "      <td>1</td>\n",
       "      <td>Ok, title is pretty self explanatory. Let’s go...</td>\n",
       "      <td>Ranking todays games based on how good I think...</td>\n",
       "      <td>76</td>\n",
       "      <td>15</td>\n",
       "      <td>{'neg': 0.0, 'neu': 0.818, 'pos': 0.182, 'comp...</td>\n",
       "      <td>0.44</td>\n",
       "      <td>1</td>\n",
       "      <td>0</td>\n",
       "    </tr>\n",
       "    <tr>\n",
       "      <th>4</th>\n",
       "      <td>1</td>\n",
       "      <td>No content</td>\n",
       "      <td>Johnson Its time for Billy Donovan to return t...</td>\n",
       "      <td>120</td>\n",
       "      <td>21</td>\n",
       "      <td>{'neg': 0.0, 'neu': 0.893, 'pos': 0.107, 'comp...</td>\n",
       "      <td>0.34</td>\n",
       "      <td>1</td>\n",
       "      <td>0</td>\n",
       "    </tr>\n",
       "  </tbody>\n",
       "</table>\n",
       "</div>"
      ],
      "text/plain": [
       "   subreddit                                           selftext  \\\n",
       "0          1  [Source tweet from Justin Kubatko of Basketbal...   \n",
       "1          1                                          [removed]   \n",
       "2          1                                         No content   \n",
       "3          1  Ok, title is pretty self explanatory. Let’s go...   \n",
       "4          1                                         No content   \n",
       "\n",
       "                                               title  title_length  \\\n",
       "0  Donovan Mitchell is the first Cavs player to d...            87   \n",
       "1                 League pass displaying wrong dates            34   \n",
       "2  Kapal Yalatmadan Bosalmayan Escort Seyma  Esco...            68   \n",
       "3  Ranking todays games based on how good I think...            76   \n",
       "4  Johnson Its time for Billy Donovan to return t...           120   \n",
       "\n",
       "   title_word_count                                           polarity  \\\n",
       "0                18  {'neg': 0.116, 'neu': 0.884, 'pos': 0.0, 'comp...   \n",
       "1                 5  {'neg': 0.437, 'neu': 0.563, 'pos': 0.0, 'comp...   \n",
       "2                 9  {'neg': 0.0, 'neu': 1.0, 'pos': 0.0, 'compound...   \n",
       "3                15  {'neg': 0.0, 'neu': 0.818, 'pos': 0.182, 'comp...   \n",
       "4                21  {'neg': 0.0, 'neu': 0.893, 'pos': 0.107, 'comp...   \n",
       "\n",
       "   compound  pos  neg  \n",
       "0     -0.27    0    1  \n",
       "1     -0.48    0    1  \n",
       "2      0.00    0    0  \n",
       "3      0.44    1    0  \n",
       "4      0.34    1    0  "
      ]
     },
     "execution_count": 31,
     "metadata": {},
     "output_type": "execute_result"
    }
   ],
   "source": [
    "df = pd.read_csv('../data/df_cleaned.csv')\n",
    "df.head()"
   ]
  },
  {
   "cell_type": "markdown",
   "metadata": {},
   "source": [
    "#### Shuffle the dataset\n",
    "Before we separate them into training and testing datasets, we have to shuffle our original dataset first. Because the posts are sorted by their subreddit labels, if we split them into training data and testing data in this order, we will have training data with most of them labeled `1 (nba)`. And this might cause high bias in our model."
   ]
  },
  {
   "cell_type": "code",
   "execution_count": 32,
   "metadata": {},
   "outputs": [
    {
     "data": {
      "text/html": [
       "<div>\n",
       "<style scoped>\n",
       "    .dataframe tbody tr th:only-of-type {\n",
       "        vertical-align: middle;\n",
       "    }\n",
       "\n",
       "    .dataframe tbody tr th {\n",
       "        vertical-align: top;\n",
       "    }\n",
       "\n",
       "    .dataframe thead th {\n",
       "        text-align: right;\n",
       "    }\n",
       "</style>\n",
       "<table border=\"1\" class=\"dataframe\">\n",
       "  <thead>\n",
       "    <tr style=\"text-align: right;\">\n",
       "      <th></th>\n",
       "      <th>subreddit</th>\n",
       "      <th>selftext</th>\n",
       "      <th>title</th>\n",
       "      <th>title_length</th>\n",
       "      <th>title_word_count</th>\n",
       "      <th>polarity</th>\n",
       "      <th>compound</th>\n",
       "      <th>pos</th>\n",
       "      <th>neg</th>\n",
       "    </tr>\n",
       "  </thead>\n",
       "  <tbody>\n",
       "    <tr>\n",
       "      <th>0</th>\n",
       "      <td>1</td>\n",
       "      <td>Tatum is taking his game to the next level. Ab...</td>\n",
       "      <td>Tatum finishes the night with 407112 on 1421 F...</td>\n",
       "      <td>214</td>\n",
       "      <td>45</td>\n",
       "      <td>{'neg': 0.067, 'neu': 0.874, 'pos': 0.059, 'co...</td>\n",
       "      <td>-0.09</td>\n",
       "      <td>0</td>\n",
       "      <td>1</td>\n",
       "    </tr>\n",
       "    <tr>\n",
       "      <th>1</th>\n",
       "      <td>1</td>\n",
       "      <td>Not on the approved list so I couldn't directl...</td>\n",
       "      <td>NBA Central TMZ acquired a picture of James Bo...</td>\n",
       "      <td>159</td>\n",
       "      <td>32</td>\n",
       "      <td>{'neg': 0.1, 'neu': 0.9, 'pos': 0.0, 'compound...</td>\n",
       "      <td>-0.48</td>\n",
       "      <td>0</td>\n",
       "      <td>1</td>\n",
       "    </tr>\n",
       "    <tr>\n",
       "      <th>2</th>\n",
       "      <td>1</td>\n",
       "      <td>33 PTS\\n\\n7 AST\\n\\n6 REB\\n\\n4 STL\\n\\n1 BLK\\n\\n...</td>\n",
       "      <td>Stephen Curry Tonight 33 PTS  7 AST  4 STL 33 ...</td>\n",
       "      <td>53</td>\n",
       "      <td>13</td>\n",
       "      <td>{'neg': 0.0, 'neu': 1.0, 'pos': 0.0, 'compound...</td>\n",
       "      <td>0.00</td>\n",
       "      <td>0</td>\n",
       "      <td>0</td>\n",
       "    </tr>\n",
       "    <tr>\n",
       "      <th>3</th>\n",
       "      <td>1</td>\n",
       "      <td>[removed]</td>\n",
       "      <td>One New Rule to Fix Tanking possibly Shooting ...</td>\n",
       "      <td>63</td>\n",
       "      <td>12</td>\n",
       "      <td>{'neg': 0.0, 'neu': 0.847, 'pos': 0.153, 'comp...</td>\n",
       "      <td>0.20</td>\n",
       "      <td>1</td>\n",
       "      <td>0</td>\n",
       "    </tr>\n",
       "    <tr>\n",
       "      <th>4</th>\n",
       "      <td>0</td>\n",
       "      <td>No content</td>\n",
       "      <td>Revenge is a dish best served cold</td>\n",
       "      <td>34</td>\n",
       "      <td>7</td>\n",
       "      <td>{'neg': 0.293, 'neu': 0.345, 'pos': 0.362, 'co...</td>\n",
       "      <td>0.20</td>\n",
       "      <td>1</td>\n",
       "      <td>0</td>\n",
       "    </tr>\n",
       "  </tbody>\n",
       "</table>\n",
       "</div>"
      ],
      "text/plain": [
       "   subreddit                                           selftext  \\\n",
       "0          1  Tatum is taking his game to the next level. Ab...   \n",
       "1          1  Not on the approved list so I couldn't directl...   \n",
       "2          1  33 PTS\\n\\n7 AST\\n\\n6 REB\\n\\n4 STL\\n\\n1 BLK\\n\\n...   \n",
       "3          1                                          [removed]   \n",
       "4          0                                         No content   \n",
       "\n",
       "                                               title  title_length  \\\n",
       "0  Tatum finishes the night with 407112 on 1421 F...           214   \n",
       "1  NBA Central TMZ acquired a picture of James Bo...           159   \n",
       "2  Stephen Curry Tonight 33 PTS  7 AST  4 STL 33 ...            53   \n",
       "3  One New Rule to Fix Tanking possibly Shooting ...            63   \n",
       "4                 Revenge is a dish best served cold            34   \n",
       "\n",
       "   title_word_count                                           polarity  \\\n",
       "0                45  {'neg': 0.067, 'neu': 0.874, 'pos': 0.059, 'co...   \n",
       "1                32  {'neg': 0.1, 'neu': 0.9, 'pos': 0.0, 'compound...   \n",
       "2                13  {'neg': 0.0, 'neu': 1.0, 'pos': 0.0, 'compound...   \n",
       "3                12  {'neg': 0.0, 'neu': 0.847, 'pos': 0.153, 'comp...   \n",
       "4                 7  {'neg': 0.293, 'neu': 0.345, 'pos': 0.362, 'co...   \n",
       "\n",
       "   compound  pos  neg  \n",
       "0     -0.09    0    1  \n",
       "1     -0.48    0    1  \n",
       "2      0.00    0    0  \n",
       "3      0.20    1    0  \n",
       "4      0.20    1    0  "
      ]
     },
     "execution_count": 32,
     "metadata": {},
     "output_type": "execute_result"
    }
   ],
   "source": [
    "df = df.sample(frac = 1, random_state = 2022).reset_index(drop = True)\n",
    "df.head()"
   ]
  },
  {
   "cell_type": "markdown",
   "metadata": {},
   "source": [
    "### Set up predictor variable (X) and target variable (y)\n",
    "* X will be the `title` of each post\n",
    "* y will be the label of each post in column `subreddit`."
   ]
  },
  {
   "cell_type": "code",
   "execution_count": 34,
   "metadata": {},
   "outputs": [],
   "source": [
    "X = df['title']\n",
    "y = df['subreddit']\n",
    "X_train, X_test, y_train, y_test = train_test_split(X, y, random_state = 42)"
   ]
  },
  {
   "cell_type": "markdown",
   "metadata": {},
   "source": [
    "## Modeling"
   ]
  },
  {
   "cell_type": "markdown",
   "metadata": {},
   "source": [
    "### Count Vectorizer + Multinomial Naive Bayes"
   ]
  },
  {
   "cell_type": "code",
   "execution_count": 94,
   "metadata": {},
   "outputs": [],
   "source": [
    "pipe = Pipeline([\n",
    "    ('cvec', CountVectorizer()),\n",
    "    ('nb', MultinomialNB())\n",
    "])\n",
    "\n",
    "pipe_params = {\n",
    "    'cvec__max_features': [2000, 3000, 4000, 5000],\n",
    "    'cvec__min_df': [2, 3],\n",
    "    'cvec__max_df': [0.8, 0.85, 0.9, 0.95],\n",
    "    'cvec__ngram_range': [(1,1), (1,2), (2,2)],\n",
    "    'cvec__stop_words': [None, 'english']\n",
    "}\n",
    "\n",
    "gs = GridSearchCV(pipe, param_grid = pipe_params, cv = 5)"
   ]
  },
  {
   "cell_type": "code",
   "execution_count": 95,
   "metadata": {},
   "outputs": [
    {
     "data": {
      "text/plain": [
       "GridSearchCV(cv=5,\n",
       "             estimator=Pipeline(steps=[('cvec', CountVectorizer()),\n",
       "                                       ('nb', MultinomialNB())]),\n",
       "             param_grid={'cvec__max_df': [0.8, 0.85, 0.9, 0.95],\n",
       "                         'cvec__max_features': [2000, 3000, 4000, 5000],\n",
       "                         'cvec__min_df': [2, 3],\n",
       "                         'cvec__ngram_range': [(1, 1), (1, 2), (2, 2)],\n",
       "                         'cvec__stop_words': [None, 'english']})"
      ]
     },
     "execution_count": 95,
     "metadata": {},
     "output_type": "execute_result"
    }
   ],
   "source": [
    "gs.fit(X_train, y_train)"
   ]
  },
  {
   "cell_type": "code",
   "execution_count": 96,
   "metadata": {},
   "outputs": [
    {
     "data": {
      "text/plain": [
       "0.917243183082916"
      ]
     },
     "execution_count": 96,
     "metadata": {},
     "output_type": "execute_result"
    }
   ],
   "source": [
    "gs.best_score_"
   ]
  },
  {
   "cell_type": "code",
   "execution_count": 97,
   "metadata": {},
   "outputs": [
    {
     "data": {
      "text/plain": [
       "{'cvec__max_df': 0.8,\n",
       " 'cvec__max_features': 3000,\n",
       " 'cvec__min_df': 2,\n",
       " 'cvec__ngram_range': (1, 1),\n",
       " 'cvec__stop_words': 'english'}"
      ]
     },
     "execution_count": 97,
     "metadata": {},
     "output_type": "execute_result"
    }
   ],
   "source": [
    "gs.best_params_"
   ]
  },
  {
   "cell_type": "code",
   "execution_count": 98,
   "metadata": {},
   "outputs": [
    {
     "data": {
      "text/plain": [
       "0.955955955955956"
      ]
     },
     "execution_count": 98,
     "metadata": {},
     "output_type": "execute_result"
    }
   ],
   "source": [
    "gs.score(X_train, y_train)"
   ]
  },
  {
   "cell_type": "code",
   "execution_count": 99,
   "metadata": {},
   "outputs": [
    {
     "data": {
      "text/plain": [
       "0.928928928928929"
      ]
     },
     "execution_count": 99,
     "metadata": {},
     "output_type": "execute_result"
    }
   ],
   "source": [
    "gs.score(X_test, y_test)"
   ]
  },
  {
   "cell_type": "code",
   "execution_count": 100,
   "metadata": {},
   "outputs": [
    {
     "data": {
      "image/png": "[encoded data removed]",
      "text/plain": [
       "<Figure size 432x288 with 2 Axes>"
      ]
     },
     "metadata": {
      "needs_background": "light"
     },
     "output_type": "display_data"
    }
   ],
   "source": [
    "plot_confusion_matrix(gs, X_test, y_test, cmap = 'Blues', display_labels = ['NFL', 'NBA']);"
   ]
  },
  {
   "cell_type": "markdown",
   "metadata": {},
   "source": [
    "---"
   ]
  },
  {
   "cell_type": "markdown",
   "metadata": {},
   "source": [
    "### TF-IDF Vectorizer + Multinomial Naive Bayes"
   ]
  },
  {
   "cell_type": "code",
   "execution_count": 87,
   "metadata": {},
   "outputs": [],
   "source": [
    "pipe_tvec = Pipeline([\n",
    "    ('tvec', TfidfVectorizer()),\n",
    "    ('nb', MultinomialNB())\n",
    "])\n",
    "\n",
    "pipe_tvec_params = {\n",
    "    'tvec__max_features': [4000, 5000],\n",
    "    'tvec__stop_words': [None, 'english'],\n",
    "    'tvec__min_df': [2, 3],\n",
    "    'tvec__max_df': [0.8, 0.85],\n",
    "    'tvec__ngram_range': [(1,1), (1,2), (2,2)]\n",
    "}\n",
    "\n",
    "gs_tvec = GridSearchCV(pipe_tvec, param_grid = pipe_tvec_params, cv = 5)"
   ]
  },
  {
   "cell_type": "code",
   "execution_count": 88,
   "metadata": {},
   "outputs": [
    {
     "data": {
      "text/plain": [
       "GridSearchCV(cv=5,\n",
       "             estimator=Pipeline(steps=[('tvec', TfidfVectorizer()),\n",
       "                                       ('nb', MultinomialNB())]),\n",
       "             param_grid={'tvec__max_df': [0.8, 0.85],\n",
       "                         'tvec__max_features': [4000, 5000],\n",
       "                         'tvec__min_df': [2, 3],\n",
       "                         'tvec__ngram_range': [(1, 1), (1, 2), (2, 2)],\n",
       "                         'tvec__stop_words': [None, 'english']})"
      ]
     },
     "execution_count": 88,
     "metadata": {},
     "output_type": "execute_result"
    }
   ],
   "source": [
    "gs_tvec.fit(X_train, y_train)"
   ]
  },
  {
   "cell_type": "code",
   "execution_count": 89,
   "metadata": {},
   "outputs": [
    {
     "data": {
      "text/plain": [
       "0.918582081246522"
      ]
     },
     "execution_count": 89,
     "metadata": {},
     "output_type": "execute_result"
    }
   ],
   "source": [
    "gs_tvec.best_score_"
   ]
  },
  {
   "cell_type": "code",
   "execution_count": 90,
   "metadata": {},
   "outputs": [
    {
     "data": {
      "text/plain": [
       "{'tvec__max_df': 0.8,\n",
       " 'tvec__max_features': 5000,\n",
       " 'tvec__min_df': 2,\n",
       " 'tvec__ngram_range': (1, 2),\n",
       " 'tvec__stop_words': 'english'}"
      ]
     },
     "execution_count": 90,
     "metadata": {},
     "output_type": "execute_result"
    }
   ],
   "source": [
    "gs_tvec.best_params_"
   ]
  },
  {
   "cell_type": "code",
   "execution_count": 91,
   "metadata": {},
   "outputs": [
    {
     "data": {
      "text/plain": [
       "0.96996996996997"
      ]
     },
     "execution_count": 91,
     "metadata": {},
     "output_type": "execute_result"
    }
   ],
   "source": [
    "gs_tvec.score(X_train, y_train)"
   ]
  },
  {
   "cell_type": "code",
   "execution_count": 92,
   "metadata": {},
   "outputs": [
    {
     "data": {
      "text/plain": [
       "0.92992992992993"
      ]
     },
     "execution_count": 92,
     "metadata": {},
     "output_type": "execute_result"
    }
   ],
   "source": [
    "gs_tvec.score(X_test, y_test)"
   ]
  },
  {
   "cell_type": "code",
   "execution_count": 93,
   "metadata": {},
   "outputs": [
    {
     "data": {
      "image/png": "[encoded data removed]",
      "text/plain": [
       "<Figure size 432x288 with 2 Axes>"
      ]
     },
     "metadata": {
      "needs_background": "light"
     },
     "output_type": "display_data"
    }
   ],
   "source": [
    "plot_confusion_matrix(gs_tvec, X_test, y_test, cmap = 'Blues', display_labels = ['NFL', 'NBA']);"
   ]
  },
  {
   "cell_type": "markdown",
   "metadata": {},
   "source": [
    "---"
   ]
  },
  {
   "cell_type": "markdown",
   "metadata": {},
   "source": [
    "### TF-IDF Vectorizer + Logistic Regression"
   ]
  },
  {
   "cell_type": "code",
   "execution_count": 79,
   "metadata": {},
   "outputs": [],
   "source": [
    "pipe_tvec = Pipeline([\n",
    "    ('tvec', TfidfVectorizer()),\n",
    "    ('log', LogisticRegression())\n",
    "])\n",
    "\n",
    "pipe_tvec_params = {\n",
    "    'tvec__max_features': [4000, 5000],\n",
    "    'tvec__stop_words': [None, 'english'],\n",
    "    'tvec__min_df': [2, 3],\n",
    "    'tvec__max_df': [0.8, 0.85],\n",
    "    'tvec__ngram_range': [(1,1), (1,2), (2,2)]\n",
    "}\n",
    "\n",
    "gs_tvec = GridSearchCV(pipe_tvec, param_grid = pipe_tvec_params, cv = 5)"
   ]
  },
  {
   "cell_type": "code",
   "execution_count": 80,
   "metadata": {
    "scrolled": true
   },
   "outputs": [
    {
     "data": {
      "text/plain": [
       "GridSearchCV(cv=5,\n",
       "             estimator=Pipeline(steps=[('tvec', TfidfVectorizer()),\n",
       "                                       ('log', LogisticRegression())]),\n",
       "             param_grid={'tvec__max_df': [0.8, 0.85],\n",
       "                         'tvec__max_features': [4000, 5000],\n",
       "                         'tvec__min_df': [2, 3],\n",
       "                         'tvec__ngram_range': [(1, 1), (1, 2), (2, 2)],\n",
       "                         'tvec__stop_words': [None, 'english']})"
      ]
     },
     "execution_count": 80,
     "metadata": {},
     "output_type": "execute_result"
    }
   ],
   "source": [
    "gs_tvec.fit(X_train, y_train)"
   ]
  },
  {
   "cell_type": "code",
   "execution_count": 86,
   "metadata": {},
   "outputs": [
    {
     "data": {
      "text/plain": [
       "0.9145781858653311"
      ]
     },
     "execution_count": 86,
     "metadata": {},
     "output_type": "execute_result"
    }
   ],
   "source": [
    "gs_tvec.best_score_"
   ]
  },
  {
   "cell_type": "code",
   "execution_count": 82,
   "metadata": {},
   "outputs": [
    {
     "data": {
      "text/plain": [
       "{'tvec__max_df': 0.8,\n",
       " 'tvec__max_features': 5000,\n",
       " 'tvec__min_df': 2,\n",
       " 'tvec__ngram_range': (1, 2),\n",
       " 'tvec__stop_words': 'english'}"
      ]
     },
     "execution_count": 82,
     "metadata": {},
     "output_type": "execute_result"
    }
   ],
   "source": [
    "gs_tvec.best_params_"
   ]
  },
  {
   "cell_type": "code",
   "execution_count": 83,
   "metadata": {},
   "outputs": [
    {
     "data": {
      "text/plain": [
       "0.9769769769769769"
      ]
     },
     "execution_count": 83,
     "metadata": {},
     "output_type": "execute_result"
    }
   ],
   "source": [
    "gs_tvec.score(X_train, y_train)"
   ]
  },
  {
   "cell_type": "code",
   "execution_count": 84,
   "metadata": {},
   "outputs": [
    {
     "data": {
      "text/plain": [
       "0.9229229229229229"
      ]
     },
     "execution_count": 84,
     "metadata": {},
     "output_type": "execute_result"
    }
   ],
   "source": [
    "gs_tvec.score(X_test, y_test)"
   ]
  },
  {
   "cell_type": "code",
   "execution_count": 85,
   "metadata": {},
   "outputs": [
    {
     "data": {
      "image/png": "[encoded data removed]",
      "text/plain": [
       "<Figure size 432x288 with 2 Axes>"
      ]
     },
     "metadata": {
      "needs_background": "light"
     },
     "output_type": "display_data"
    }
   ],
   "source": [
    "plot_confusion_matrix(gs_tvec, X_test, y_test, cmap = 'Blues', display_labels = ['NFL', 'NBA']);"
   ]
  },
  {
   "cell_type": "markdown",
   "metadata": {},
   "source": [
    "---"
   ]
  },
  {
   "cell_type": "markdown",
   "metadata": {},
   "source": [
    "### TF-IDF Vectorizer + KNN"
   ]
  },
  {
   "cell_type": "code",
   "execution_count": 72,
   "metadata": {},
   "outputs": [],
   "source": [
    "pipe_tvec = Pipeline([\n",
    "    ('tvec', TfidfVectorizer()),\n",
    "    ('knn', KNeighborsClassifier())\n",
    "])\n",
    "\n",
    "pipe_tvec_params = {\n",
    "    'tvec__max_features': [4000, 5000],\n",
    "    'tvec__stop_words': [None, 'english'],\n",
    "    'tvec__min_df': [2, 3],\n",
    "    'tvec__max_df': [0.8, 0.85],\n",
    "    'tvec__ngram_range': [(1,1), (1,2)],\n",
    "    'knn__n_neighbors': np.arange(25, 42, 5)\n",
    "}\n",
    "\n",
    "gs_tvec = GridSearchCV(pipe_tvec, param_grid = pipe_tvec_params, cv = 5)"
   ]
  },
  {
   "cell_type": "code",
   "execution_count": 73,
   "metadata": {},
   "outputs": [
    {
     "data": {
      "text/plain": [
       "GridSearchCV(cv=5,\n",
       "             estimator=Pipeline(steps=[('tvec', TfidfVectorizer()),\n",
       "                                       ('knn', KNeighborsClassifier())]),\n",
       "             param_grid={'knn__n_neighbors': array([25, 30, 35, 40]),\n",
       "                         'tvec__max_df': [0.8, 0.85],\n",
       "                         'tvec__max_features': [4000, 5000],\n",
       "                         'tvec__min_df': [2, 3],\n",
       "                         'tvec__ngram_range': [(1, 1), (1, 2)],\n",
       "                         'tvec__stop_words': [None, 'english']})"
      ]
     },
     "execution_count": 73,
     "metadata": {},
     "output_type": "execute_result"
    }
   ],
   "source": [
    "gs_tvec.fit(X_train, y_train)"
   ]
  },
  {
   "cell_type": "code",
   "execution_count": 78,
   "metadata": {},
   "outputs": [
    {
     "data": {
      "text/plain": [
       "0.917243183082916"
      ]
     },
     "execution_count": 78,
     "metadata": {},
     "output_type": "execute_result"
    }
   ],
   "source": [
    "gs.best_score_"
   ]
  },
  {
   "cell_type": "code",
   "execution_count": 74,
   "metadata": {},
   "outputs": [
    {
     "data": {
      "text/plain": [
       "{'knn__n_neighbors': 35,\n",
       " 'tvec__max_df': 0.8,\n",
       " 'tvec__max_features': 4000,\n",
       " 'tvec__min_df': 2,\n",
       " 'tvec__ngram_range': (1, 1),\n",
       " 'tvec__stop_words': 'english'}"
      ]
     },
     "execution_count": 74,
     "metadata": {},
     "output_type": "execute_result"
    }
   ],
   "source": [
    "gs_tvec.best_params_"
   ]
  },
  {
   "cell_type": "code",
   "execution_count": 75,
   "metadata": {},
   "outputs": [
    {
     "data": {
      "text/plain": [
       "0.9112445779112446"
      ]
     },
     "execution_count": 75,
     "metadata": {},
     "output_type": "execute_result"
    }
   ],
   "source": [
    "gs_tvec.score(X_train, y_train)"
   ]
  },
  {
   "cell_type": "code",
   "execution_count": 76,
   "metadata": {},
   "outputs": [
    {
     "data": {
      "text/plain": [
       "0.8988988988988988"
      ]
     },
     "execution_count": 76,
     "metadata": {},
     "output_type": "execute_result"
    }
   ],
   "source": [
    "gs_tvec.score(X_test, y_test)"
   ]
  },
  {
   "cell_type": "code",
   "execution_count": 77,
   "metadata": {},
   "outputs": [
    {
     "data": {
      "image/png": "[encoded data removed]",
      "text/plain": [
       "<Figure size 432x288 with 2 Axes>"
      ]
     },
     "metadata": {
      "needs_background": "light"
     },
     "output_type": "display_data"
    }
   ],
   "source": [
    "plot_confusion_matrix(gs_tvec, X_test, y_test, cmap = 'Blues', display_labels = ['NFL', 'NBA']);"
   ]
  },
  {
   "cell_type": "markdown",
   "metadata": {},
   "source": [
    "---\n",
    "### Summary\n",
    "* All models have similar average scores at around 91.7%. And model 2, composed of **Multinomial Naive Bayes** with **TF-IDF Vectorizer**, got the highest average score at 91.9%. \n",
    "\n",
    "\n",
    "* However, if we care more about the overfitting problem, model 4 (**KNN + TF-IDF Vectorizer**) might be the best choice since its training and testing scores are the least different.\n",
    "\n",
    "\n",
    "* **Summary table**:\n",
    "\n",
    "|  | CVEC | TF-IDF | MNB | KNN | LogReg | Avg. Score | Rank |\n",
    "| --- | --- | --- | --- | --- | --- | --- | --- |\n",
    "| Model 1 | <font color='dodgerblue'>v</font> | <font color='gray'>x</font> | <font color='dodgerblue'>v</font> | <font color='gray'>x</font> | <font color='gray'>x</font> | 0.917 | 2 |\n",
    "| Model 2 | <font color='gray'>x</font> | <font color='dodgerblue'>v</font> | <font color='dodgerblue'>v</font> | <font color='gray'>x</font> | <font color='gray'>x</font> | 0.919 | <font color='red'>1</font> |\n",
    "| Model 3 | <font color='gray'>x</font> | <font color='dodgerblue'>v</font> | <font color='gray'>x</font> | <font color='gray'>x</font> | <font color='dodgerblue'>v</font> | 0.915 | 4 |\n",
    "| Model 4 | <font color='gray'>x</font> | <font color='dodgerblue'>v</font> | <font color='gray'>x</font> | <font color='dodgerblue'>v</font> | <font color='gray'>x</font> | 0.917 | 2 |\n"
   ]
  }
 ],
 "metadata": {
  "kernelspec": {
   "display_name": "Python 3",
   "language": "python",
   "name": "python3"
  },
  "language_info": {
   "codemirror_mode": {
    "name": "ipython",
    "version": 3
   },
   "file_extension": ".py",
   "mimetype": "text/x-python",
   "name": "python",
   "nbconvert_exporter": "python",
   "pygments_lexer": "ipython3",
   "version": "3.8.5"
  }
 },
 "nbformat": 4,
 "nbformat_minor": 4
}
