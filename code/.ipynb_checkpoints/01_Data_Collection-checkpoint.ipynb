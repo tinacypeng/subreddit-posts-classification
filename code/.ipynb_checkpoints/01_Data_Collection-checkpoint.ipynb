{
 "cells": [
  {
   "cell_type": "markdown",
   "metadata": {},
   "source": [
    "<img src=\"../images/tinap.png\" style=\"float: left; margin: 15px; height: 50px\">\n",
    "\n",
    "# Tina's Project 3 - Web APIs & NLP Application - Reddit\n",
    "\n",
    "## Part 1. Data Collection"
   ]
  },
  {
   "cell_type": "code",
   "execution_count": 1,
   "metadata": {},
   "outputs": [],
   "source": [
    "import pandas as pd\n",
    "import requests\n",
    "import datetime"
   ]
  },
  {
   "cell_type": "markdown",
   "metadata": {},
   "source": [
    "### Scrap posts from subreddits: `r/nba` and `r/nfl`"
   ]
  },
  {
   "cell_type": "code",
   "execution_count": 2,
   "metadata": {},
   "outputs": [],
   "source": [
    "# get about 2000 posts\n",
    "def get_subreddit(subreddit_name):\n",
    "    timestamps = [1666544400]\n",
    "    dfs = pd.DataFrame()\n",
    "    \n",
    "    for i in range(8):\n",
    "        url = \"https://api.pushshift.io/reddit/search/submission\"\n",
    "        params = {\n",
    "            'subreddit': subreddit_name,\n",
    "            'size': 250,\n",
    "            'before': timestamps[i]\n",
    "        }\n",
    "\n",
    "        res = requests.get(url, params)\n",
    "        data = res.json()\n",
    "        df = pd.DataFrame(data['data'])\n",
    "        timestamps.append(df['created_utc'].to_list()[-1])\n",
    "        dfs = pd.concat([dfs, df], ignore_index = True)\n",
    "    \n",
    "    start_date = datetime.datetime.fromtimestamp(timestamps[-1])\n",
    "    end_date = datetime.datetime.fromtimestamp(timestamps[0])\n",
    "    print(f\"Posts collected from {start_date} to {end_date}.\")\n",
    "    \n",
    "    return dfs"
   ]
  },
  {
   "cell_type": "markdown",
   "metadata": {},
   "source": [
    "#### Posts from `r/nba`"
   ]
  },
  {
   "cell_type": "code",
   "execution_count": 144,
   "metadata": {},
   "outputs": [
    {
     "name": "stdout",
     "output_type": "stream",
     "text": [
      "Posts collected from 2022-10-18 19:11:14 to 2022-10-23 12:00:00.\n"
     ]
    },
    {
     "data": {
      "text/html": [
       "<div>\n",
       "<style scoped>\n",
       "    .dataframe tbody tr th:only-of-type {\n",
       "        vertical-align: middle;\n",
       "    }\n",
       "\n",
       "    .dataframe tbody tr th {\n",
       "        vertical-align: top;\n",
       "    }\n",
       "\n",
       "    .dataframe thead th {\n",
       "        text-align: right;\n",
       "    }\n",
       "</style>\n",
       "<table border=\"1\" class=\"dataframe\">\n",
       "  <thead>\n",
       "    <tr style=\"text-align: right;\">\n",
       "      <th></th>\n",
       "      <th>subreddit</th>\n",
       "      <th>selftext</th>\n",
       "      <th>title</th>\n",
       "    </tr>\n",
       "  </thead>\n",
       "  <tbody>\n",
       "    <tr>\n",
       "      <th>0</th>\n",
       "      <td>nba</td>\n",
       "      <td>[Source tweet from Justin Kubatko of Basketbal...</td>\n",
       "      <td>Donovan Mitchell is the first Cavs player to d...</td>\n",
       "    </tr>\n",
       "    <tr>\n",
       "      <th>1</th>\n",
       "      <td>nba</td>\n",
       "      <td>[removed]</td>\n",
       "      <td>League pass displaying wrong dates?</td>\n",
       "    </tr>\n",
       "    <tr>\n",
       "      <th>2</th>\n",
       "      <td>nba</td>\n",
       "      <td></td>\n",
       "      <td>Kapalı Yalatmadan Bosalmayan Escort Seyma - Es...</td>\n",
       "    </tr>\n",
       "    <tr>\n",
       "      <th>3</th>\n",
       "      <td>nba</td>\n",
       "      <td>Ok, title is pretty self explanatory. Let’s go...</td>\n",
       "      <td>Ranking today’s games based on how good I thin...</td>\n",
       "    </tr>\n",
       "    <tr>\n",
       "      <th>4</th>\n",
       "      <td>nba</td>\n",
       "      <td></td>\n",
       "      <td>[Johnson] It’s time for Billy Donovan to retur...</td>\n",
       "    </tr>\n",
       "  </tbody>\n",
       "</table>\n",
       "</div>"
      ],
      "text/plain": [
       "  subreddit                                           selftext  \\\n",
       "0       nba  [Source tweet from Justin Kubatko of Basketbal...   \n",
       "1       nba                                          [removed]   \n",
       "2       nba                                                      \n",
       "3       nba  Ok, title is pretty self explanatory. Let’s go...   \n",
       "4       nba                                                      \n",
       "\n",
       "                                               title  \n",
       "0  Donovan Mitchell is the first Cavs player to d...  \n",
       "1                League pass displaying wrong dates?  \n",
       "2  Kapalı Yalatmadan Bosalmayan Escort Seyma - Es...  \n",
       "3  Ranking today’s games based on how good I thin...  \n",
       "4  [Johnson] It’s time for Billy Donovan to retur...  "
      ]
     },
     "execution_count": 144,
     "metadata": {},
     "output_type": "execute_result"
    }
   ],
   "source": [
    "df_nba = get_subreddit('nba')\n",
    "df_nba[['subreddit', 'selftext', 'title']].head()"
   ]
  },
  {
   "cell_type": "code",
   "execution_count": 145,
   "metadata": {},
   "outputs": [
    {
     "data": {
      "text/plain": [
       "(1997, 80)"
      ]
     },
     "execution_count": 145,
     "metadata": {},
     "output_type": "execute_result"
    }
   ],
   "source": [
    "df_nba.shape"
   ]
  },
  {
   "cell_type": "markdown",
   "metadata": {},
   "source": [
    "#### Posts from `r/nfl`"
   ]
  },
  {
   "cell_type": "code",
   "execution_count": 146,
   "metadata": {},
   "outputs": [
    {
     "name": "stdout",
     "output_type": "stream",
     "text": [
      "Posts collected from 2022-10-16 16:14:52 to 2022-10-23 12:00:00.\n"
     ]
    },
    {
     "data": {
      "text/html": [
       "<div>\n",
       "<style scoped>\n",
       "    .dataframe tbody tr th:only-of-type {\n",
       "        vertical-align: middle;\n",
       "    }\n",
       "\n",
       "    .dataframe tbody tr th {\n",
       "        vertical-align: top;\n",
       "    }\n",
       "\n",
       "    .dataframe thead th {\n",
       "        text-align: right;\n",
       "    }\n",
       "</style>\n",
       "<table border=\"1\" class=\"dataframe\">\n",
       "  <thead>\n",
       "    <tr style=\"text-align: right;\">\n",
       "      <th></th>\n",
       "      <th>subreddit</th>\n",
       "      <th>selftext</th>\n",
       "      <th>title</th>\n",
       "    </tr>\n",
       "  </thead>\n",
       "  <tbody>\n",
       "    <tr>\n",
       "      <th>0</th>\n",
       "      <td>nfl</td>\n",
       "      <td>[removed]</td>\n",
       "      <td>NFL+ question</td>\n",
       "    </tr>\n",
       "    <tr>\n",
       "      <th>1</th>\n",
       "      <td>nfl</td>\n",
       "      <td></td>\n",
       "      <td>[Meinke] The Cowboys game program, which calls...</td>\n",
       "    </tr>\n",
       "    <tr>\n",
       "      <th>2</th>\n",
       "      <td>nfl</td>\n",
       "      <td>[removed]</td>\n",
       "      <td>Sorry to be an idiot but what is ACTUAL game s...</td>\n",
       "    </tr>\n",
       "    <tr>\n",
       "      <th>3</th>\n",
       "      <td>nfl</td>\n",
       "      <td>This is via Matt Provencher on Fox Sports.</td>\n",
       "      <td>B.U.S. Banged Up Score for each team</td>\n",
       "    </tr>\n",
       "    <tr>\n",
       "      <th>4</th>\n",
       "      <td>nfl</td>\n",
       "      <td></td>\n",
       "      <td>B.U.S. Score for each team</td>\n",
       "    </tr>\n",
       "  </tbody>\n",
       "</table>\n",
       "</div>"
      ],
      "text/plain": [
       "  subreddit                                    selftext  \\\n",
       "0       nfl                                   [removed]   \n",
       "1       nfl                                               \n",
       "2       nfl                                   [removed]   \n",
       "3       nfl  This is via Matt Provencher on Fox Sports.   \n",
       "4       nfl                                               \n",
       "\n",
       "                                               title  \n",
       "0                                      NFL+ question  \n",
       "1  [Meinke] The Cowboys game program, which calls...  \n",
       "2  Sorry to be an idiot but what is ACTUAL game s...  \n",
       "3               B.U.S. Banged Up Score for each team  \n",
       "4                         B.U.S. Score for each team  "
      ]
     },
     "execution_count": 146,
     "metadata": {},
     "output_type": "execute_result"
    }
   ],
   "source": [
    "df_nfl = get_subreddit('nfl')\n",
    "df_nfl[['subreddit', 'selftext', 'title']].head()"
   ]
  },
  {
   "cell_type": "code",
   "execution_count": 147,
   "metadata": {},
   "outputs": [
    {
     "data": {
      "text/plain": [
       "(2000, 82)"
      ]
     },
     "execution_count": 147,
     "metadata": {},
     "output_type": "execute_result"
    }
   ],
   "source": [
    "df_nfl.shape"
   ]
  },
  {
   "cell_type": "markdown",
   "metadata": {},
   "source": [
    "### Output dataframes as csv file to the data forder"
   ]
  },
  {
   "cell_type": "code",
   "execution_count": 149,
   "metadata": {},
   "outputs": [],
   "source": [
    "df_nba[['subreddit', 'selftext', 'title']].to_csv('../data/df_nba.csv', index = False)\n",
    "df_nfl[['subreddit', 'selftext', 'title']].to_csv('../data/df_nfl.csv', index = False)"
   ]
  }
 ],
 "metadata": {
  "kernelspec": {
   "display_name": "Python 3",
   "language": "python",
   "name": "python3"
  },
  "language_info": {
   "codemirror_mode": {
    "name": "ipython",
    "version": 3
   },
   "file_extension": ".py",
   "mimetype": "text/x-python",
   "name": "python",
   "nbconvert_exporter": "python",
   "pygments_lexer": "ipython3",
   "version": "3.8.5"
  }
 },
 "nbformat": 4,
 "nbformat_minor": 4
}
